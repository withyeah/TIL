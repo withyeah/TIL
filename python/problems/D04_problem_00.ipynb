{
 "cells": [
  {
   "cell_type": "markdown",
   "metadata": {},
   "source": [
    "## 최대공약수, 최소공배수 구하기\n",
    "\n",
    "> 두 수를 입력받아 두 수의 최대공약수와 최소공배수를 반환하는 함수, gcdlcm을 완성해 보세요.\n",
    ">\n",
    "> 배열의 맨 앞에 최대공약수, 그다음 최소공배수를 넣어 반환하면 됩니다. \n",
    ">\n",
    "> 예를 들어 두 수 3, 12의 최대공약수는 3, 최소공배수는 12이므로 `gcdlcm(3, 12)`는 `[3, 12]`를 반환해야 합니다. \n",
    "\n",
    "예시)\n",
    "\n",
    "```python\n",
    "gcdlcm(3, 12) #=> [3, 12]\n",
    "gcdlcm(1071, 1029) #=> [21, 52479]\n",
    "```"
   ]
  },
  {
   "cell_type": "code",
   "execution_count": 5,
   "metadata": {},
   "outputs": [],
   "source": [
    "# 여기에 코드를 작성하세요.\n",
    "def gcdlcm(x, y):\n",
    "    a, b = max(x, y), min(x, y)\n",
    "    while b > 0:\n",
    "        a, b = b, a%2\n",
    "    return [a, int(x*y / a)]\n",
    "    "
   ]
  },
  {
   "cell_type": "code",
   "execution_count": 6,
   "metadata": {},
   "outputs": [
    {
     "name": "stdout",
     "output_type": "stream",
     "text": [
      "[3, 12]\n",
      "[36, 54]\n"
     ]
    },
    {
     "ename": "KeyboardInterrupt",
     "evalue": "",
     "output_type": "error",
     "traceback": [
      "\u001b[1;31m---------------------------------------------------------------------------\u001b[0m",
      "\u001b[1;31mKeyboardInterrupt\u001b[0m                         Traceback (most recent call last)",
      "\u001b[1;32m<ipython-input-6-b2850fc0bba8>\u001b[0m in \u001b[0;36m<module>\u001b[1;34m\u001b[0m\n\u001b[0;32m      1\u001b[0m \u001b[0mprint\u001b[0m\u001b[1;33m(\u001b[0m\u001b[0mgcdlcm\u001b[0m\u001b[1;33m(\u001b[0m\u001b[1;36m3\u001b[0m\u001b[1;33m,\u001b[0m \u001b[1;36m12\u001b[0m\u001b[1;33m)\u001b[0m\u001b[1;33m)\u001b[0m\u001b[1;33m\u001b[0m\u001b[1;33m\u001b[0m\u001b[0m\n\u001b[0;32m      2\u001b[0m \u001b[0mprint\u001b[0m\u001b[1;33m(\u001b[0m\u001b[0mgcdlcm\u001b[0m\u001b[1;33m(\u001b[0m\u001b[1;36m36\u001b[0m\u001b[1;33m,\u001b[0m \u001b[1;36m54\u001b[0m\u001b[1;33m)\u001b[0m\u001b[1;33m)\u001b[0m\u001b[1;33m\u001b[0m\u001b[1;33m\u001b[0m\u001b[0m\n\u001b[1;32m----> 3\u001b[1;33m \u001b[0mprint\u001b[0m\u001b[1;33m(\u001b[0m\u001b[0mgcdlcm\u001b[0m\u001b[1;33m(\u001b[0m\u001b[1;36m1071\u001b[0m\u001b[1;33m,\u001b[0m \u001b[1;36m1029\u001b[0m\u001b[1;33m)\u001b[0m\u001b[1;33m)\u001b[0m\u001b[1;33m\u001b[0m\u001b[1;33m\u001b[0m\u001b[0m\n\u001b[0m",
      "\u001b[1;32m<ipython-input-5-0ce200bb2194>\u001b[0m in \u001b[0;36mgcdlcm\u001b[1;34m(x, y)\u001b[0m\n\u001b[0;32m      3\u001b[0m     \u001b[0ma\u001b[0m\u001b[1;33m,\u001b[0m \u001b[0mb\u001b[0m \u001b[1;33m=\u001b[0m \u001b[0mmax\u001b[0m\u001b[1;33m(\u001b[0m\u001b[0mx\u001b[0m\u001b[1;33m,\u001b[0m \u001b[0my\u001b[0m\u001b[1;33m)\u001b[0m\u001b[1;33m,\u001b[0m \u001b[0mmin\u001b[0m\u001b[1;33m(\u001b[0m\u001b[0mx\u001b[0m\u001b[1;33m,\u001b[0m \u001b[0my\u001b[0m\u001b[1;33m)\u001b[0m\u001b[1;33m\u001b[0m\u001b[1;33m\u001b[0m\u001b[0m\n\u001b[0;32m      4\u001b[0m     \u001b[1;32mwhile\u001b[0m \u001b[0mb\u001b[0m \u001b[1;33m>\u001b[0m \u001b[1;36m0\u001b[0m\u001b[1;33m:\u001b[0m\u001b[1;33m\u001b[0m\u001b[1;33m\u001b[0m\u001b[0m\n\u001b[1;32m----> 5\u001b[1;33m         \u001b[0ma\u001b[0m\u001b[1;33m,\u001b[0m \u001b[0mb\u001b[0m \u001b[1;33m=\u001b[0m \u001b[0mb\u001b[0m\u001b[1;33m,\u001b[0m \u001b[0ma\u001b[0m\u001b[1;33m%\u001b[0m\u001b[1;36m2\u001b[0m\u001b[1;33m\u001b[0m\u001b[1;33m\u001b[0m\u001b[0m\n\u001b[0m\u001b[0;32m      6\u001b[0m     \u001b[1;32mreturn\u001b[0m \u001b[1;33m[\u001b[0m\u001b[0ma\u001b[0m\u001b[1;33m,\u001b[0m \u001b[0mint\u001b[0m\u001b[1;33m(\u001b[0m\u001b[0mx\u001b[0m\u001b[1;33m*\u001b[0m\u001b[0my\u001b[0m \u001b[1;33m/\u001b[0m \u001b[0ma\u001b[0m\u001b[1;33m)\u001b[0m\u001b[1;33m]\u001b[0m\u001b[1;33m\u001b[0m\u001b[1;33m\u001b[0m\u001b[0m\n\u001b[0;32m      7\u001b[0m \u001b[1;33m\u001b[0m\u001b[0m\n",
      "\u001b[1;31mKeyboardInterrupt\u001b[0m: "
     ]
    }
   ],
   "source": [
    "print(gcdlcm(3, 12))\n",
    "print(gcdlcm(36, 54))\n",
    "print(gcdlcm(1071, 1029))"
   ]
  },
  {
   "cell_type": "markdown",
   "metadata": {},
   "source": [
    "## URL 편하게 만들기\n",
    "\n",
    "> url 패턴을 만들어 문자열을 반환하는 `my_url` 함수를 만들어봅시다.\n",
    ">\n",
    "> 영진위에서 제공하는 일별 박스오피스 API 서비스는 다음과 같은 방식으로 요청을 받습니다.\n",
    "\n",
    "```\n",
    "기본 요청 URL : http://www.kobis.or.kr/kobisopenapi/webservice/rest/boxoffice/searchDailyBoxOfficeList.json?\n",
    "```\n",
    "\n",
    "* key : 발급받은 키값(abc)\n",
    "* targetDt : yyyymmdd\n",
    "* itemPerPage : 1 ~ 10 **기본 10**\n",
    "---\n",
    "\n",
    "예시)\n",
    "```python\n",
    "api = {\n",
    "    'key': 'abc',\n",
    "    'targetDt': 'yyyymmdd'\n",
    "}\n",
    "my_url(**api)\n",
    "```\n",
    "\n",
    "예시 출력)\n",
    "```python\n",
    "'http://www.kobis.or.kr/kobisopenapi/webservice/rest/boxoffice/searchDailyBoxOfficeList.json?key=abc&targetDt=yyyymmdd&'\n",
    "```"
   ]
  },
  {
   "cell_type": "code",
   "execution_count": 4,
   "metadata": {},
   "outputs": [
    {
     "data": {
      "text/plain": [
       "'http://www.kobis.or.kr/kobisopenapi/webservice/rest/boxoffice/searchDailyBoxOfficeList.json?itemPerPage=10&targetDt=yyyymmdd&'"
      ]
     },
     "execution_count": 4,
     "metadata": {},
     "output_type": "execute_result"
    }
   ],
   "source": [
    "# 여기에 코드를 작성해주세요.\n",
    "\n",
    "def my_url(itemPerPage=10, **api):\n",
    "    for key, value in api.items():\n",
    "        base_url = f'http://www.kobis.or.kr/kobisopenapi/webservice/rest/boxoffice/searchDailyBoxOfficeList.json?itemPerPage={itemPerPage}&'\n",
    "        api_url = f'{key}={value}&'\n",
    "        result = base_url + api_url\n",
    "    return result\n",
    "    \n",
    "api = {\n",
    "    'key': 'abc',\n",
    "    'targetDt': 'yyyymmdd'\n",
    "}\n",
    "\n",
    "my_url(**api)"
   ]
  },
  {
   "cell_type": "markdown",
   "metadata": {},
   "source": [
    "## URL 검증하기\n",
    "\n",
    "> 이제 우리는 만들어진 요청 보내기전에 URL을 검증해야합니다. \n",
    ">\n",
    "> 앞선 설명을 참고하여 검증 로직을 구현하고 문자열을 반환하세요.\n",
    "\n",
    "```\n",
    "> 아래의 두가지 상황만 만들도록 하겠습니다. <\n",
    "\n",
    "1. key, targetDt가 없으면, '필수 요청변수가 누락되었습니다.'\n",
    "\n",
    "2. itemPerPage의 범위가 1~10을 넘어가면, '1~10까지의 값을 넣어주세요.'\n",
    "```"
   ]
  },
  {
   "cell_type": "code",
   "execution_count": 16,
   "metadata": {},
   "outputs": [
    {
     "data": {
      "text/plain": [
       "'http://www.kobis.or.kr/kobisopenapi/webservice/rest/boxoffice/searchDailyBoxOfficeList.json?itemPerPage=10&targetDt=yyyymmdd&'"
      ]
     },
     "execution_count": 16,
     "metadata": {},
     "output_type": "execute_result"
    }
   ],
   "source": [
    "# 여기에 코드를 작성해주세요.\n",
    "\n",
    "def my_url(itemPerPage=10, **api):\n",
    "    for key, value in api.items():\n",
    "        if itemPerPage < 1 or itemPerPage > 10:\n",
    "            return '1~10까지의 값을 넣어주세요.'\n",
    "        else:\n",
    "            base_url = f'http://www.kobis.or.kr/kobisopenapi/webservice/rest/boxoffice/searchDailyBoxOfficeList.json?itemPerPage={itemPerPage}&'\n",
    "#         if 'key' or 'targetDt' not in api:\n",
    "        if 'key' not in api or 'targetDt' not in api:\n",
    "            return '필수 요청변수가 누락되었습니다.'\n",
    "        else:\n",
    "            api_url = f'{key}={value}&'\n",
    "            result = base_url + api_url\n",
    "    return result\n",
    "    \n",
    "api = {\n",
    "    'key': 'abc',\n",
    "    'targetDt': 'yyyymmdd'\n",
    "}\n",
    "\n",
    "my_url(**api)\n",
    "# my_url(15, **api)"
   ]
  },
  {
   "cell_type": "code",
   "execution_count": 20,
   "metadata": {},
   "outputs": [
    {
     "data": {
      "text/plain": [
       "'http://www.kobis.or.kr/kobisopenapi/webservice/rest/boxoffice/searchDailyBoxOfficeList.json?itemPerPage=10&targetDt=yyyymmdd&'"
      ]
     },
     "execution_count": 20,
     "metadata": {},
     "output_type": "execute_result"
    }
   ],
   "source": [
    "def my_url(itemPerPage=10, **api):\n",
    "    if ('key' not in api or 'targetDt' not in api) and int(itemPerPage) not in range(1, 11):\n",
    "        return '필수 요청변수가 누락되었으며, 1~10 까지의 값을 넣어주세요.'\n",
    "    elif 'key' not in api or 'targetDt' not in api:\n",
    "        return '필수 요청변수가 누락되었습니다.'\n",
    "    elif int(itemPerPage) not in range(1, 11):\n",
    "        return '1~10 까지의 값을 넣어주세요.'\n",
    "    else:\n",
    "        for key, value in api.items():\n",
    "            base_url = f'http://www.kobis.or.kr/kobisopenapi/webservice/rest/boxoffice/searchDailyBoxOfficeList.json?itemPerPage={itemPerPage}&'\n",
    "            api_url = f'{key}={value}&'\n",
    "            result = base_url + api_url\n",
    "        return result\n",
    "\n",
    "api = {\n",
    "    'key': 'abc',\n",
    "    'targetDt': 'yyyymmdd'\n",
    "}\n",
    "\n",
    "my_url(**api)"
   ]
  },
  {
   "cell_type": "code",
   "execution_count": 22,
   "metadata": {},
   "outputs": [],
   "source": [
    "def return_test():\n",
    "    return '대전2반'\n",
    "\n",
    "def print_test():\n",
    "    print('대전2반')\n",
    "    # return None"
   ]
  },
  {
   "cell_type": "code",
   "execution_count": 23,
   "metadata": {},
   "outputs": [
    {
     "name": "stdout",
     "output_type": "stream",
     "text": [
      "우리는 대전2반 입니다.\n"
     ]
    }
   ],
   "source": [
    "print(f'우리는 {return_test()} 입니다.')"
   ]
  },
  {
   "cell_type": "code",
   "execution_count": 24,
   "metadata": {},
   "outputs": [
    {
     "name": "stdout",
     "output_type": "stream",
     "text": [
      "대전2반\n",
      "우리는 None 입니다.\n"
     ]
    }
   ],
   "source": [
    "print(f'우리는 {print_test()} 입니다.')"
   ]
  },
  {
   "cell_type": "markdown",
   "metadata": {},
   "source": [
    "### 양축평가"
   ]
  },
  {
   "cell_type": "code",
   "execution_count": null,
   "metadata": {},
   "outputs": [],
   "source": [
    "if 'key' not in args or 'targetDt' not in args:"
   ]
  },
  {
   "cell_type": "code",
   "execution_count": null,
   "metadata": {},
   "outputs": [],
   "source": [
    "if ('key' or 'targetDt') not in args:"
   ]
  },
  {
   "cell_type": "code",
   "execution_count": 25,
   "metadata": {},
   "outputs": [],
   "source": [
    "vowel = 'aeiou'\n",
    "vowel = ['a', 'e', ]"
   ]
  },
  {
   "cell_type": "code",
   "execution_count": 26,
   "metadata": {},
   "outputs": [
    {
     "data": {
      "text/plain": [
       "'b'"
      ]
     },
     "execution_count": 26,
     "metadata": {},
     "output_type": "execute_result"
    }
   ],
   "source": [
    "'a' and 'b'"
   ]
  },
  {
   "cell_type": "code",
   "execution_count": 3,
   "metadata": {},
   "outputs": [
    {
     "data": {
      "text/plain": [
       "'a'"
      ]
     },
     "execution_count": 3,
     "metadata": {},
     "output_type": "execute_result"
    }
   ],
   "source": [
    "'a' or 'b'"
   ]
  }
 ],
 "metadata": {
  "kernelspec": {
   "display_name": "Python 3",
   "language": "python",
   "name": "python3"
  },
  "language_info": {
   "codemirror_mode": {
    "name": "ipython",
    "version": 3
   },
   "file_extension": ".py",
   "mimetype": "text/x-python",
   "name": "python",
   "nbconvert_exporter": "python",
   "pygments_lexer": "ipython3",
   "version": "3.7.2"
  },
  "toc": {
   "base_numbering": 1,
   "nav_menu": {},
   "number_sections": true,
   "sideBar": true,
   "skip_h1_title": false,
   "title_cell": "Table of Contents",
   "title_sidebar": "Contents",
   "toc_cell": false,
   "toc_position": {},
   "toc_section_display": true,
   "toc_window_display": false
  }
 },
 "nbformat": 4,
 "nbformat_minor": 2
}

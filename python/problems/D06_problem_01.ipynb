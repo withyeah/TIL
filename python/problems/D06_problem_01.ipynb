{
 "cells": [
  {
   "cell_type": "markdown",
   "metadata": {},
   "source": [
    "# 통과한 시험\n",
    "\n",
    "> 딕셔너리 형태로 언어 및 각 테스트의 결과가 주어지면 테스트 점수가 60 이상인 언어 목록의 결과를 내림차순으로 정렬된 리스트를 반환하는 `passpass` 함수를 작성하세요. (중복되는 점수는 없습니다.)\n",
    "\n",
    "예시)\n",
    "\n",
    "```python\n",
    "passpass({\"Java\": 10, \"Ruby\": 80, \"Python\": 65}) #=> ['Ruby', 'Python']\n",
    "```"
   ]
  },
  {
   "cell_type": "code",
   "execution_count": 26,
   "metadata": {},
   "outputs": [
    {
     "ename": "SyntaxError",
     "evalue": "Generator expression must be parenthesized if not sole argument (<ipython-input-26-7d33b7a3cb05>, line 4)",
     "output_type": "error",
     "traceback": [
      "\u001b[1;36m  File \u001b[1;32m\"<ipython-input-26-7d33b7a3cb05>\"\u001b[1;36m, line \u001b[1;32m4\u001b[0m\n\u001b[1;33m    return sorted((value,key) for (key,value) in results.items(), reverse=True)\u001b[0m\n\u001b[1;37m                 ^\u001b[0m\n\u001b[1;31mSyntaxError\u001b[0m\u001b[1;31m:\u001b[0m Generator expression must be parenthesized if not sole argument\n"
     ]
    }
   ],
   "source": [
    "# 여기에 코드를 작성하세요.\n",
    "def passpass(results): \n",
    "    answer = []\n",
    "    return sorted((value,key) for (key,value) in results.items(), reverse=True)\n",
    "#     for key, value in results.items():\n",
    "#         if value >= 60:\n",
    "#             answer.append(key)\n",
    "#     return answer"
   ]
  },
  {
   "cell_type": "code",
   "execution_count": 24,
   "metadata": {},
   "outputs": [
    {
     "ename": "AttributeError",
     "evalue": "'list' object has no attribute 'reversed'",
     "output_type": "error",
     "traceback": [
      "\u001b[1;31m---------------------------------------------------------------------------\u001b[0m",
      "\u001b[1;31mAttributeError\u001b[0m                            Traceback (most recent call last)",
      "\u001b[1;32m<ipython-input-24-1b4ddea9b696>\u001b[0m in \u001b[0;36m<module>\u001b[1;34m\u001b[0m\n\u001b[0;32m      1\u001b[0m \u001b[1;31m# 해당 코드를 통해 올바른 결과가 나오는지 확인하세요.\u001b[0m\u001b[1;33m\u001b[0m\u001b[1;33m\u001b[0m\u001b[1;33m\u001b[0m\u001b[0m\n\u001b[1;32m----> 2\u001b[1;33m \u001b[0mprint\u001b[0m\u001b[1;33m(\u001b[0m\u001b[0mpasspass\u001b[0m\u001b[1;33m(\u001b[0m\u001b[1;33m{\u001b[0m\u001b[1;34m\"Java\"\u001b[0m\u001b[1;33m:\u001b[0m \u001b[1;36m10\u001b[0m\u001b[1;33m,\u001b[0m \u001b[1;34m\"Ruby\"\u001b[0m\u001b[1;33m:\u001b[0m \u001b[1;36m80\u001b[0m\u001b[1;33m,\u001b[0m \u001b[1;34m\"Python\"\u001b[0m\u001b[1;33m:\u001b[0m \u001b[1;36m65\u001b[0m\u001b[1;33m}\u001b[0m\u001b[1;33m)\u001b[0m\u001b[1;33m)\u001b[0m\u001b[1;33m\u001b[0m\u001b[1;33m\u001b[0m\u001b[0m\n\u001b[0m",
      "\u001b[1;32m<ipython-input-23-4345063e7a69>\u001b[0m in \u001b[0;36mpasspass\u001b[1;34m(results)\u001b[0m\n\u001b[0;32m      2\u001b[0m \u001b[1;32mdef\u001b[0m \u001b[0mpasspass\u001b[0m\u001b[1;33m(\u001b[0m\u001b[0mresults\u001b[0m\u001b[1;33m)\u001b[0m\u001b[1;33m:\u001b[0m\u001b[1;33m\u001b[0m\u001b[1;33m\u001b[0m\u001b[0m\n\u001b[0;32m      3\u001b[0m     \u001b[0manswer\u001b[0m \u001b[1;33m=\u001b[0m \u001b[1;33m[\u001b[0m\u001b[1;33m]\u001b[0m\u001b[1;33m\u001b[0m\u001b[1;33m\u001b[0m\u001b[0m\n\u001b[1;32m----> 4\u001b[1;33m     \u001b[1;32mreturn\u001b[0m \u001b[0msorted\u001b[0m\u001b[1;33m(\u001b[0m\u001b[1;33m(\u001b[0m\u001b[0mvalue\u001b[0m\u001b[1;33m,\u001b[0m\u001b[0mkey\u001b[0m\u001b[1;33m)\u001b[0m \u001b[1;32mfor\u001b[0m \u001b[1;33m(\u001b[0m\u001b[0mkey\u001b[0m\u001b[1;33m,\u001b[0m\u001b[0mvalue\u001b[0m\u001b[1;33m)\u001b[0m \u001b[1;32min\u001b[0m \u001b[0mresults\u001b[0m\u001b[1;33m.\u001b[0m\u001b[0mitems\u001b[0m\u001b[1;33m(\u001b[0m\u001b[1;33m)\u001b[0m\u001b[1;33m)\u001b[0m\u001b[1;33m.\u001b[0m\u001b[0mreversed\u001b[0m\u001b[1;33m(\u001b[0m\u001b[1;33m)\u001b[0m\u001b[1;33m\u001b[0m\u001b[1;33m\u001b[0m\u001b[0m\n\u001b[0m\u001b[0;32m      5\u001b[0m \u001b[1;31m#     for key, value in results.items():\u001b[0m\u001b[1;33m\u001b[0m\u001b[1;33m\u001b[0m\u001b[1;33m\u001b[0m\u001b[0m\n\u001b[0;32m      6\u001b[0m \u001b[1;31m#         if value >= 60:\u001b[0m\u001b[1;33m\u001b[0m\u001b[1;33m\u001b[0m\u001b[1;33m\u001b[0m\u001b[0m\n",
      "\u001b[1;31mAttributeError\u001b[0m: 'list' object has no attribute 'reversed'"
     ]
    }
   ],
   "source": [
    "# 해당 코드를 통해 올바른 결과가 나오는지 확인하세요.\n",
    "print(passpass({\"Java\": 10, \"Ruby\": 80, \"Python\": 65}))"
   ]
  },
  {
   "cell_type": "code",
   "execution_count": 17,
   "metadata": {},
   "outputs": [
    {
     "name": "stdout",
     "output_type": "stream",
     "text": [
      "['Ruby', 'Python']\n"
     ]
    }
   ],
   "source": [
    "# 해당 코드를 통해 올바른 결과가 나오는지 확인하세요.\n",
    "print(passpass({\"Java\": 10, \"Ruby\": 80, \"Python\": 90}))"
   ]
  },
  {
   "cell_type": "markdown",
   "metadata": {},
   "source": [
    "# 나만의 딕셔너리 생성기\n",
    "\n",
    "> key의 리스트와 value의 리스트로 딕셔너리를 생성하여 return 하는 `create_dict(keys, values)` 함수를 작성하세요.\n",
    ">\n",
    ">만약에 value의 갯수가 key의 갯수보다 부족한 경우, None을 채워 넣어야 합니다. 반대로 key의 갯수가 부족한 경우, 초과하는 value들은 무시해도 됩니다.\n",
    "\n",
    "예시)\n",
    "```python\n",
    "create_dict(['a', 'b', 'c', 'd'], [1, 2, 3]) #=> {'a': 1, 'b': 2, 'c': 3, 'd': None}\n",
    "create_dict(['a', 'b', 'c'], [1, 2, 3, 4]) #=> {'a': 1, 'b': 2, 'c': 3}\n",
    "```"
   ]
  },
  {
   "cell_type": "code",
   "execution_count": 8,
   "metadata": {},
   "outputs": [],
   "source": [
    "# 여기에 코드를 작성하세요.\n",
    "# zip_longest 써서 탈락!\n",
    "from itertools import zip_longest\n",
    "def create_dict(keys, values):\n",
    "    if len(keys) > len(values):\n",
    "        return dict(zip_longest(keys, values, fillvalue=None))\n",
    "    else:\n",
    "        return dict(zip(keys, values))"
   ]
  },
  {
   "cell_type": "code",
   "execution_count": 39,
   "metadata": {},
   "outputs": [
    {
     "name": "stdout",
     "output_type": "stream",
     "text": [
      "{'a': 1, 'b': 2, 'c': 3, 'd': None}\n",
      "{'a': 1, 'b': 2, 'c': 3}\n"
     ]
    }
   ],
   "source": [
    "# 강사님 답\n",
    "\n",
    "def create_dict(keys,values):\n",
    "    while len(keys) > len(values):\n",
    "        values.append(None)\n",
    "    \n",
    "    return dict(zip(keys, values))\n",
    "\n",
    "print(create_dict(['a', 'b', 'c', 'd'], [1, 2, 3]))\n",
    "print(create_dict(['a', 'b', 'c'], [1, 2, 3, 4]))"
   ]
  },
  {
   "cell_type": "code",
   "execution_count": 37,
   "metadata": {},
   "outputs": [
    {
     "name": "stdout",
     "output_type": "stream",
     "text": [
      "[]\n",
      "{'a': 1, 'b': 2, 'c': 3}\n"
     ]
    }
   ],
   "source": [
    "#내 답: 풀다가 망함!\n",
    "\n",
    "def create_dict(keys, values):\n",
    "    if len(keys) > len(values):\n",
    "        diff = len(keys) - len(values)\n",
    "        llist = []\n",
    "        for i in range(1, diff):\n",
    "            llist.append(list(enumerate(keys))[-i])    \n",
    "        return llist\n",
    "    else:\n",
    "        return dict(zip(keys, values))\n",
    "        \n",
    "    \n",
    "print(create_dict(['a', 'b', 'c', 'd'], [1, 2, 3]))\n",
    "print(create_dict(['a', 'b', 'c'], [1, 2, 3, 4]))"
   ]
  },
  {
   "cell_type": "code",
   "execution_count": 9,
   "metadata": {},
   "outputs": [
    {
     "name": "stdout",
     "output_type": "stream",
     "text": [
      "{'a': 1, 'b': 2, 'c': 3, 'd': None}\n",
      "{'a': 1, 'b': 2, 'c': 3}\n"
     ]
    }
   ],
   "source": [
    "# 해당 코드를 통해 올바른 결과가 나오는지 확인하세요.\n",
    "print(create_dict(['a', 'b', 'c', 'd'], [1, 2, 3]))\n",
    "print(create_dict(['a', 'b', 'c'], [1, 2, 3, 4]))"
   ]
  }
 ],
 "metadata": {
  "kernelspec": {
   "display_name": "Python 3",
   "language": "python",
   "name": "python3"
  },
  "language_info": {
   "codemirror_mode": {
    "name": "ipython",
    "version": 3
   },
   "file_extension": ".py",
   "mimetype": "text/x-python",
   "name": "python",
   "nbconvert_exporter": "python",
   "pygments_lexer": "ipython3",
   "version": "3.7.2"
  },
  "toc": {
   "base_numbering": 1,
   "nav_menu": {},
   "number_sections": true,
   "sideBar": true,
   "skip_h1_title": false,
   "title_cell": "Table of Contents",
   "title_sidebar": "Contents",
   "toc_cell": false,
   "toc_position": {},
   "toc_section_display": true,
   "toc_window_display": false
  }
 },
 "nbformat": 4,
 "nbformat_minor": 2
}
